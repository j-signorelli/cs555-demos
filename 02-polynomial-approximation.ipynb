{
 "cells": [
  {
   "cell_type": "code",
   "execution_count": null,
   "id": "552420a7-6ec1-4ffc-8768-843907463103",
   "metadata": {},
   "outputs": [],
   "source": [
    "import numpy as np\n",
    "from scipy.special import legendre\n",
    "from scipy.interpolate import lagrange\n",
    "import matplotlib.pyplot as plt\n",
    "import modepy\n",
    "from functools import partial"
   ]
  },
  {
   "cell_type": "code",
   "execution_count": null,
   "id": "04dea359-d421-4404-a4e2-c79ddf20b3f0",
   "metadata": {},
   "outputs": [],
   "source": [
    "quad = modepy.quadrature.jacobi_gauss.LegendreGaussQuadrature(10)\n",
    "print(quad.nodes)\n",
    "print(quad.weights)\n",
    "print(quad.exact_to)"
   ]
  },
  {
   "cell_type": "code",
   "execution_count": null,
   "id": "c2ced7af-2657-4671-a2a6-e037925effb2",
   "metadata": {},
   "outputs": [],
   "source": [
    "def f(x):\n",
    "    # return np.cos(np.pi*x)\n",
    "    return np.abs(x)\n",
    "\n",
    "# set k\n",
    "k = 10\n",
    "\n",
    "M = np.zeros((k+1, k+1))\n",
    "quad = modepy.quadrature.jacobi_gauss.LegendreGaussQuadrature(k)\n",
    "qx = quad.nodes\n",
    "qw = quad.weights\n",
    "F = np.zeros(k+1)\n",
    "\n",
    "x = modepy.quadrature.jacobi_gauss.legendre_gauss_lobatto_nodes(k)\n",
    "def _phia(i, x):\n",
    "    w = np.zeros_like(x)\n",
    "    w[i] = 1\n",
    "    return lagrange(x, w)\n",
    "phia = partial(_phia, x=x)\n",
    "\n",
    "def phib(i):\n",
    "    return legendre(i) / np.sqrt(2/(2*i+1))\n",
    "    \n",
    "phi = phia\n",
    "for i in range(k+1):\n",
    "    for j in range(k+1):\n",
    "        M[i, j] = np.sum(qw * phi(i)(qx) * phi(j)(qx))   # \\int_{-1}^{1} phi_i phi_j\n",
    "    F[i] = np.sum(qw * f(qx) * phi(i)(qx))"
   ]
  },
  {
   "cell_type": "code",
   "execution_count": null,
   "id": "f49f97ec-f0b3-47ea-80ca-cc2cd1563ce9",
   "metadata": {},
   "outputs": [],
   "source": [
    "a = np.linalg.solve(M, F)"
   ]
  },
  {
   "cell_type": "code",
   "execution_count": null,
   "id": "e9f988db-5046-476a-a6ef-3ffd0d9226c9",
   "metadata": {},
   "outputs": [],
   "source": [
    "xx = np.linspace(-1, 1, 100)\n",
    "pk = np.zeros_like(xx)\n",
    "for i in range(k+1):\n",
    "    pk += a[i] * phi(i)(xx)"
   ]
  },
  {
   "cell_type": "code",
   "execution_count": null,
   "id": "08ec6fbb-4e2d-4f3b-85e9-ff2e244fcef0",
   "metadata": {},
   "outputs": [],
   "source": [
    "fig, ax = plt.subplots(figsize=(10,3))\n",
    "ax.plot(xx, f(xx))\n",
    "ax.plot(qx, f(qx), 'o', color='tab:blue', markerfacecolor='w')\n",
    "ax.plot(xx, pk)\n",
    "ax.plot(xx, 10*np.abs(pk-f(xx)), 'm-', lw=1)\n",
    "ax.axis('off')"
   ]
  }
 ],
 "metadata": {
  "kernelspec": {
   "display_name": "Python 3 (ipykernel)",
   "language": "python",
   "name": "python3"
  },
  "language_info": {
   "codemirror_mode": {
    "name": "ipython",
    "version": 3
   },
   "file_extension": ".py",
   "mimetype": "text/x-python",
   "name": "python",
   "nbconvert_exporter": "python",
   "pygments_lexer": "ipython3",
   "version": "3.10.10"
  }
 },
 "nbformat": 4,
 "nbformat_minor": 5
}
