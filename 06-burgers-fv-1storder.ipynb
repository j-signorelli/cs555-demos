{
 "cells": [
  {
   "cell_type": "code",
   "execution_count": null,
   "id": "f5af539f-b704-4e1f-8ad7-4cfd71bebd76",
   "metadata": {},
   "outputs": [],
   "source": [
    "import numpy as np\n",
    "\n",
    "import matplotlib.pyplot as plt"
   ]
  },
  {
   "cell_type": "code",
   "execution_count": null,
   "id": "a7241d6f-ee52-4961-b394-959175d34941",
   "metadata": {},
   "outputs": [],
   "source": [
    "T = 1.0 # end time\n",
    "\n",
    "nx = 1000 # spacial size\n",
    "x = np.linspace(0, 1, nx, endpoint=False)\n",
    "hx = x[1] - x[0]\n",
    "xx = np.linspace(0, 1, 1000, endpoint=False)\n",
    "\n",
    "gamma = 0.95\n",
    "ht = hx * gamma\n",
    "nt = int(T/ht)\n",
    "\n",
    "print(f'     T = {T}')\n",
    "print(f'tsteps = {nt}')\n",
    "print(f'    hx = {hx}')\n",
    "print(f'    ht = {ht}')\n",
    "print(f' gamma = {gamma}')\n",
    "\n",
    "def pulse(x):\n",
    "    return np.exp(-100*(x-0.5)**2)\n",
    "\n",
    "def sinusoidal(x):\n",
    "    k = 6\n",
    "    return np.sin(k * np.pi * x)\n",
    "\n",
    "def hump(x):\n",
    "    u = np.zeros_like(x)\n",
    "    I = np.where((x>=0.2) & (x<=0.4))[0]\n",
    "    u[I] = -100 * (x[I]-0.2) * (x[I]-0.4)\n",
    "    return u\n",
    "\n",
    "def square(x):\n",
    "    u = np.zeros(x.shape)\n",
    "    u[np.where((x>0.4) & (x<0.6))[0]] = 1.0\n",
    "    return u\n",
    "\n",
    "uinit = square"
   ]
  },
  {
   "cell_type": "code",
   "execution_count": null,
   "id": "08abb6e4-4e55-42c2-9434-0b2eeae8bd91",
   "metadata": {},
   "outputs": [],
   "source": [
    "plt.plot(xx, uinit(xx), lw=3, clip_on=False)\n",
    "plt.plot(x, uinit(x), lw=3, clip_on=False)"
   ]
  },
  {
   "cell_type": "code",
   "execution_count": null,
   "id": "9f2759ed-3268-427b-b87b-77add8a958f8",
   "metadata": {},
   "outputs": [],
   "source": [
    "J = np.arange(0, nx)  # all vertices\n",
    "Jm1 = np.roll(J, 1)\n",
    "Jp1 = np.roll(J, -1)\n",
    "\n",
    "u = uinit(x)\n",
    "plt.plot(x, u, lw=3, color='tab:blue')\n",
    "\n",
    "def f(u):\n",
    "    return u**2/2\n",
    "\n",
    "def fprime(u):\n",
    "    return u\n",
    "\n",
    "for tstep in range(1, nt+1):\n",
    "    \n",
    "    #u[J] = u[J] - gamma * u[J] * (u[J] - u[Jm1])\n",
    "    \n",
    "    uplus = u[Jp1]\n",
    "    uminus = u[J]\n",
    "    alpha = np.maximum(np.abs(fprime(uplus)),\n",
    "                       np.abs(fprime(uminus)))\n",
    "    fluxes = (f(uplus)+f(uminus))/2 - alpha/2*(uplus-uminus)\n",
    "    rhs = - 1/hx*(fluxes[J]-fluxes[Jm1])\n",
    "\n",
    "    ht = hx*gamma/np.max(fprime(np.abs(u)))\n",
    "    u[:] = u + ht*rhs\n",
    "    \n",
    "    if tstep % 100 == 0:\n",
    "        plt.plot(x, u, lw=0.5, color='tab:red')\n",
    "    \n",
    "plt.plot(x, u, color='tab:red', lw=2)"
   ]
  },
  {
   "cell_type": "code",
   "execution_count": null,
   "id": "30b8874e-362d-46bf-bfd0-33e1a14e4373",
   "metadata": {},
   "outputs": [],
   "source": []
  },
  {
   "cell_type": "code",
   "execution_count": null,
   "id": "56042723-9bba-4d1c-82c0-b8910d888620",
   "metadata": {},
   "outputs": [],
   "source": []
  }
 ],
 "metadata": {
  "kernelspec": {
   "display_name": "Python 3 (ipykernel)",
   "language": "python",
   "name": "python3"
  },
  "language_info": {
   "codemirror_mode": {
    "name": "ipython",
    "version": 3
   },
   "file_extension": ".py",
   "mimetype": "text/x-python",
   "name": "python",
   "nbconvert_exporter": "python",
   "pygments_lexer": "ipython3",
   "version": "3.10.9"
  }
 },
 "nbformat": 4,
 "nbformat_minor": 5
}
