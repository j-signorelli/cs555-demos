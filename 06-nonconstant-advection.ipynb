{
 "cells": [
  {
   "cell_type": "code",
   "execution_count": null,
   "id": "27fdc47b-fa99-4684-b7fa-e352eced4fdd",
   "metadata": {},
   "outputs": [],
   "source": [
    "import numpy as np\n",
    "import matplotlib.pyplot as plt"
   ]
  },
  {
   "cell_type": "code",
   "execution_count": null,
   "id": "d093fd88-2af1-48ba-9c31-4398ad750957",
   "metadata": {},
   "outputs": [],
   "source": [
    "def gaussian(x):\n",
    "    u = np.exp(-100 * (x - 0.25)**2)\n",
    "    return u\n",
    "\n",
    "\n",
    "def step(x):\n",
    "    u = np.zeros(x.shape)\n",
    "    for j in range(len(x)):\n",
    "        if (x[j] >= 0.6) and (x[j] <= 0.8):\n",
    "            u[j] = 1.0\n",
    "\n",
    "    return u\n",
    "\n",
    "\n",
    "def c(x):\n",
    "    #return 1.0 + 0.0 * x\n",
    "    return 2.0 + np.sin(2 * np.pi * x)\n",
    "\n",
    "T = 1.0\n",
    "gamma = 0.95\n",
    "nx = 128"
   ]
  },
  {
   "cell_type": "code",
   "execution_count": null,
   "id": "bdc2a571-bb83-4799-97b9-318d648d4409",
   "metadata": {},
   "outputs": [],
   "source": [
    "x, hx = np.linspace(0, 1, nx, endpoint=False, retstep=True)\n",
    "xx = np.linspace(0, 1-hx, 1000)\n",
    "\n",
    "ht = hx * gamma / c(x).max()\n",
    "nt = int(np.ceil(T/ht))\n",
    "ht = T/nt\n",
    "\n",
    "print('T = %g' % T)\n",
    "print('tsteps = %d' % nt)\n",
    "print('    hx = %g' % hx)\n",
    "print('    ht = %g' % ht)\n",
    "print('lambda = %g' % gamma)\n",
    "\n",
    "J = np.arange(0, nx)  # all vertices\n",
    "Jm1 = np.roll(J, 1)\n",
    "Jp1 = np.roll(J, -1)"
   ]
  },
  {
   "cell_type": "code",
   "execution_count": null,
   "id": "019d81d4-83b9-4911-b0b1-47490f7c3986",
   "metadata": {},
   "outputs": [],
   "source": [
    "u = gaussian(x) + step(x)\n",
    "u0 = u.copy()\n",
    "\n",
    "fig, ax = plt.subplots()\n",
    "ax.plot(x, u0, 'r-', linewidth=1)\n",
    "\n",
    "for n in range(1, nt+1):\n",
    "\n",
    "    # FIXME!\n",
    "\n",
    "    if n % 10 == 0:\n",
    "        fig, ax = plt.subplots()\n",
    "        ax.plot(x, u, '-', linewidth=0.5)\n",
    "        ax.axis([0, 1, -0.25, 1.25])\n",
    "\n",
    "plt.show(block=True)"
   ]
  },
  {
   "cell_type": "code",
   "execution_count": null,
   "id": "47870c9b-5881-4920-ae95-d4d7e0e1dde5",
   "metadata": {},
   "outputs": [],
   "source": []
  }
 ],
 "metadata": {
  "kernelspec": {
   "display_name": "Python 3 (ipykernel)",
   "language": "python",
   "name": "python3"
  },
  "language_info": {
   "codemirror_mode": {
    "name": "ipython",
    "version": 3
   },
   "file_extension": ".py",
   "mimetype": "text/x-python",
   "name": "python",
   "nbconvert_exporter": "python",
   "pygments_lexer": "ipython3",
   "version": "3.12.9"
  }
 },
 "nbformat": 4,
 "nbformat_minor": 5
}
