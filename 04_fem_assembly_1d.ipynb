{
 "cells": [
  {
   "cell_type": "code",
   "execution_count": null,
   "id": "0962b290-7548-412f-94ff-94da0a172047",
   "metadata": {},
   "outputs": [],
   "source": [
    "import numpy as np\n",
    "import scipy as sp\n",
    "import matplotlib.pyplot as plt\n",
    "import functools"
   ]
  },
  {
   "cell_type": "markdown",
   "id": "daffa359-643a-44f3-bee8-59bb6dcfc340",
   "metadata": {},
   "source": [
    "Consider the following problem:\n",
    "\\begin{align}\n",
    "-\\partial_x(\\kappa(x) \\partial_x u_x) & = f(x)\\quad\\text{in $[0,1]$}\\\\\n",
    "u(0) = \\alpha\\\\\n",
    "u'(1) = \\beta\n",
    "\\end{align}"
   ]
  },
  {
   "cell_type": "code",
   "execution_count": null,
   "id": "222b7930-e5ae-4186-9786-71fa01854603",
   "metadata": {},
   "outputs": [],
   "source": [
    "def f(x):\n",
    "    #u = np.exp(-100 * (x - 0.25)**2)\n",
    "    u = np.ones_like(x)\n",
    "    return u\n",
    "\n",
    "def kappa(x):\n",
    "    u = 1 - 0.5*np.exp(-100 * (x - 0.75)**2)\n",
    "    return u\n",
    "\n",
    "alpha = 0.25\n",
    "beta = 0.0\n",
    "\n",
    "class Mesh:\n",
    "    def __init__(self, nel):\n",
    "        self.nel = nel\n",
    "        x = np.linspace(0, 1, nel+1)\n",
    "        self.x = x\n",
    "        self.h = x[1] - x[0]\n",
    "        self.n = len(x)\n",
    "\n",
    "def gnorm(mesh, u):\n",
    "    return np.sqrt(mesh.h) * np.linalg.norm(u)"
   ]
  },
  {
   "cell_type": "code",
   "execution_count": null,
   "id": "e3aa4aae-f745-402f-9132-f3427cb2c9e8",
   "metadata": {},
   "outputs": [],
   "source": [
    "def assemble(mesh, f, kappa):\n",
    "    n = mesh.n\n",
    "    nel = mesh.nel\n",
    "    h = mesh.h\n",
    "    x = mesh.x\n",
    "    \n",
    "    A = np.zeros((n, n))\n",
    "    rhs = np.zeros(n)\n",
    "    for e in range(0, nel):\n",
    "        AA = np.array([[ 1/h, -1/h],\n",
    "                       [-1/h,  1/h]])\n",
    "        #ff = np.array([h/2, h/2])       \n",
    "        t = 0.5\n",
    "        ff0 = f(h * t + x[e])*(1-t)*h\n",
    "        ff1 = f(h * t + x[e])*(t)*h\n",
    "        ff = np.array([ff0, ff1])\n",
    "        \n",
    "        if e == 0:\n",
    "            AA[:,0] = 0\n",
    "            AA[0,:] = 0\n",
    "            ff[0] = 0\n",
    "        \n",
    "        A[e:e+2, e:e+2] += AA\n",
    "        rhs[e:e+2] += ff\n",
    "    A = A[1:, 1:]\n",
    "    rhs = rhs[1:]\n",
    "    return A, rhs"
   ]
  },
  {
   "cell_type": "markdown",
   "id": "8fc5afd6-f5ee-4ffc-82ea-691b01982d1c",
   "metadata": {},
   "source": [
    "Questions that you should consider:\n",
    "* What if $\\kappa(x) \\ne 1$; how do we do integration?\n",
    "* What if $f(x)$ is complicated; how do we do integration?\n",
    "* How do we impose $u(0) = a$ on the space/problem?\n",
    "* What tests can you include to verify your implementation?\n",
    "  \n",
    "Challenge questions:\n",
    "* How do we use a sparse matrix instead of a numpy array?\n",
    "* What if $\\beta \\ne 0$?  How do we handle this in the the problem?\n",
    "* What if we use a quadratic basis vs a linear basis?"
   ]
  },
  {
   "cell_type": "code",
   "execution_count": null,
   "id": "359824c1-eff2-4734-a808-6cd2bce83dc0",
   "metadata": {},
   "outputs": [],
   "source": [
    "def mytest(test):\n",
    "    @functools.wraps(test)\n",
    "    def wrapper():\n",
    "        test()\n",
    "        print(f'{test.__name__}: pass')\n",
    "    return wrapper\n",
    "\n",
    "@mytest\n",
    "def test1():\n",
    "    mesh = Mesh(3)\n",
    "    f = lambda x: 1\n",
    "    kappa = lambda x: 1\n",
    "    A, rhs = assemble(mesh, f, kappa)\n",
    "    Aref = np.array([[2, -1, 0],\n",
    "                     [-1, 2, -1],\n",
    "                     [0, -1, 1]])\n",
    "    rhsref = np.array([2, 2, 1])\n",
    "    np.testing.assert_array_almost_equal(mesh.h*A, Aref)\n",
    "    np.testing.assert_array_almost_equal(2*rhs/mesh.h, rhsref)\n",
    "\n",
    "@mytest\n",
    "def test2():\n",
    "    def f(x):\n",
    "        return (np.pi**2/4)*np.sin(np.pi*x/2)\n",
    "    kappa = lambda x: 1\n",
    "    def uexact(x):\n",
    "        return np.sin(np.pi*x/2)\n",
    "\n",
    "    e0 = 1\n",
    "    for nel in [8, 16, 32, 64, 128]:\n",
    "        mesh = Mesh(nel)\n",
    "        A, rhs = assemble(mesh, f, kappa)\n",
    "        u = np.linalg.solve(A, rhs)\n",
    "        e = gnorm(mesh, u - uexact(mesh.x[1:]))\n",
    "        ratio = e0/e\n",
    "        e0 = e\n",
    "    assert ratio > 3.5\n",
    "\n",
    "test1()\n",
    "test2()"
   ]
  },
  {
   "cell_type": "code",
   "execution_count": null,
   "id": "1e9a9fa2-31f9-4c66-98e4-70e35aa160b1",
   "metadata": {},
   "outputs": [],
   "source": [
    "mesh = Mesh(200)\n",
    "def f(x):\n",
    "    return (np.pi**2/4)*np.sin(np.pi*x/2)\n",
    "A, rhs = assemble(mesh, f, kappa)\n",
    "u = np.linalg.solve(A, rhs)\n",
    "plt.plot(mesh.x[1:], u)\n",
    "plt.plot(mesh.x[1:], np.sin(np.pi*mesh.x[1:]/2))"
   ]
  }
 ],
 "metadata": {
  "kernelspec": {
   "display_name": "Python 3 (ipykernel)",
   "language": "python",
   "name": "python3"
  },
  "language_info": {
   "codemirror_mode": {
    "name": "ipython",
    "version": 3
   },
   "file_extension": ".py",
   "mimetype": "text/x-python",
   "name": "python",
   "nbconvert_exporter": "python",
   "pygments_lexer": "ipython3",
   "version": "3.11.7"
  }
 },
 "nbformat": 4,
 "nbformat_minor": 5
}
