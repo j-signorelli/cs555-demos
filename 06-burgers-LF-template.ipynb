{
 "cells": [
  {
   "cell_type": "code",
   "execution_count": null,
   "id": "aaa00016-a7be-4517-8696-965118b4d5e6",
   "metadata": {},
   "outputs": [],
   "source": [
    "import numpy as np\n",
    "\n",
    "import matplotlib.pyplot as plt"
   ]
  },
  {
   "cell_type": "code",
   "execution_count": null,
   "id": "2a01f34a-d55f-4082-8f50-760e15ba40b9",
   "metadata": {},
   "outputs": [],
   "source": [
    "T = 1.0 # end time\n",
    "\n",
    "nx = 100 # number of cells\n",
    "hx = (1/nx)/2\n",
    "\n",
    "x = np.linspace(hx, 1, nx, endpoint=False)\n",
    "#plt.plot(x, 0*x, 'go')\n",
    "#plt.plot(x-(1/nx/2), 0*x, 'b|')\n",
    "#plt.plot(x+(1/nx/2)+5e-3, 0*x, 'b|')\n",
    "xx = np.linspace(0, 1, 1000, endpoint=False)\n",
    "\n",
    "gamma = 0.95\n",
    "ht = hx * gamma\n",
    "nt = int(T/ht)\n",
    "\n",
    "print(f'     T = {T}')\n",
    "print(f'tsteps = {nt}')\n",
    "print(f'    hx = {hx}')\n",
    "print(f'    ht = {ht}')\n",
    "print(f' gamma = {gamma}')\n",
    "\n",
    "def square(x):\n",
    "    u = np.zeros(x.shape)\n",
    "    u[np.where((x>0.05) & (x<0.4))[0]] = 1.0\n",
    "    return u\n",
    "\n",
    "uinit = square"
   ]
  },
  {
   "cell_type": "code",
   "execution_count": null,
   "id": "3dd02623-c5c9-42ae-b360-ee333bc57508",
   "metadata": {},
   "outputs": [],
   "source": [
    "J = np.arange(0, nx)  # all vertices\n",
    "Jm1 = np.roll(J, 1)\n",
    "Jp1 = np.roll(J, -1)\n",
    "\n",
    "u = uinit(x)\n",
    "plt.plot(x, u, lw=3, color='tab:blue')\n",
    "\n",
    "def f(u):\n",
    "    return u**2/2\n",
    "\n",
    "def fprime(u):\n",
    "    return u\n",
    "\n",
    "for tstep in range(1, nt+1):\n",
    "        \n",
    "    uplus = u[Jp1]\n",
    "    uminus = u[J]\n",
    "    alpha = np.maximum(np.abs(fprime(uplus)),\n",
    "                       np.abs(fprime(uminus)))\n",
    "    fluxes = (f(uplus)+f(uminus))/2 - alpha/2*(uplus-uminus)\n",
    "    #      = f^*_{k+1/2} for k=0, ..., n\n",
    "    u[:] = # FIXME\n",
    "    \n",
    "    if tstep % 10 == 0:\n",
    "        plt.plot(x, u, lw=0.5, color='tab:red')\n",
    "    \n",
    "plt.plot(x, u, color='tab:red', lw=2)"
   ]
  },
  {
   "cell_type": "code",
   "execution_count": null,
   "id": "f4c4ee36-7105-4689-8a37-f9b331884702",
   "metadata": {},
   "outputs": [],
   "source": []
  },
  {
   "cell_type": "code",
   "execution_count": null,
   "id": "656c3562-c44d-465e-84c9-9d29b23caa48",
   "metadata": {},
   "outputs": [],
   "source": []
  }
 ],
 "metadata": {
  "kernelspec": {
   "display_name": "Python 3 (ipykernel)",
   "language": "python",
   "name": "python3"
  },
  "language_info": {
   "codemirror_mode": {
    "name": "ipython",
    "version": 3
   },
   "file_extension": ".py",
   "mimetype": "text/x-python",
   "name": "python",
   "nbconvert_exporter": "python",
   "pygments_lexer": "ipython3",
   "version": "3.11.7"
  }
 },
 "nbformat": 4,
 "nbformat_minor": 5
}
