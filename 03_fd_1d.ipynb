{
 "cells": [
  {
   "cell_type": "code",
   "execution_count": null,
   "id": "76946408-89dd-4c56-8e0d-09e45bd82457",
   "metadata": {},
   "outputs": [],
   "source": [
    "import numpy as np\n",
    "import scipy as sp\n",
    "import matplotlib.pyplot as plt"
   ]
  },
  {
   "cell_type": "code",
   "execution_count": null,
   "id": "06b15e69-550b-45fa-92a8-89b6b3cc3a8d",
   "metadata": {},
   "outputs": [],
   "source": [
    "n = 128  # 0, 1, ...., n-1, n\n",
    "\n",
    "z = np.ones(n-1)\n",
    "data = [-1*z, 2*z, -1*z]\n",
    "h = 1/n\n",
    "A = sp.sparse.diags_array(data, offsets=[-1, 0, 1],\n",
    "                          shape=(n-1, n-1), format='csr')"
   ]
  },
  {
   "cell_type": "code",
   "execution_count": null,
   "id": "a000d344-537c-4a96-9362-195ac8db9404",
   "metadata": {},
   "outputs": [],
   "source": [
    "print(A.toarray())"
   ]
  },
  {
   "cell_type": "code",
   "execution_count": null,
   "id": "eec00d09-62bc-49f5-a8d2-c4b2c8c45a21",
   "metadata": {},
   "outputs": [],
   "source": [
    "def uexact(x, k=1):\n",
    "    return np.sin(k * np.pi * x)\n",
    "def f(x, k=1):\n",
    "    return ((k*np.pi)**2) * uexact(x, k)"
   ]
  },
  {
   "cell_type": "code",
   "execution_count": null,
   "id": "4e2cc726-7d0d-4169-9b1d-77959431ff53",
   "metadata": {},
   "outputs": [],
   "source": [
    "x = np.linspace(0, 1, n+1)\n",
    "U = uexact(x[1:-1])\n",
    "F = f(x[1:-1])\n",
    "u = sp.sparse.linalg.spsolve(A, h**2 * F)"
   ]
  },
  {
   "cell_type": "code",
   "execution_count": null,
   "id": "bec393a3-62b4-48a2-ab83-69124acec18a",
   "metadata": {},
   "outputs": [],
   "source": [
    "fig, ax = plt.subplots()\n",
    "ax.plot(x[1:-1], U, label='$U(x_j)$')\n",
    "ax.plot(x[1:-1], u, label='$u_j$')\n",
    "plt.legend()"
   ]
  },
  {
   "cell_type": "code",
   "execution_count": null,
   "id": "89f74b29-fd7d-4a95-a9f0-443340240201",
   "metadata": {},
   "outputs": [],
   "source": [
    "def gnorm(u, h):\n",
    "    return np.sqrt(h * np.sum(u**2))\n",
    "\n",
    "n = 100\n",
    "x, h = np.linspace(0, 1, n+1, retstep=True)\n",
    "np.testing.assert_almost_equal(h, 1/n)\n",
    "\n",
    "u = x*(1-x)\n",
    "np.testing.assert_almost_equal(gnorm(u, h)**2, 1/5-1/2+1/3)"
   ]
  },
  {
   "cell_type": "code",
   "execution_count": null,
   "id": "e7b2364a-59aa-4b7d-aca6-23c7c386f1e0",
   "metadata": {},
   "outputs": [],
   "source": [
    "gnorm(A @ U - F, h)"
   ]
  }
 ],
 "metadata": {
  "kernelspec": {
   "display_name": "Python 3 (ipykernel)",
   "language": "python",
   "name": "python3"
  },
  "language_info": {
   "codemirror_mode": {
    "name": "ipython",
    "version": 3
   },
   "file_extension": ".py",
   "mimetype": "text/x-python",
   "name": "python",
   "nbconvert_exporter": "python",
   "pygments_lexer": "ipython3",
   "version": "3.12.9"
  }
 },
 "nbformat": 4,
 "nbformat_minor": 5
}
