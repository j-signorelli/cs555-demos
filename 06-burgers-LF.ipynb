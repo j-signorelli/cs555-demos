{
 "cells": [
  {
   "cell_type": "code",
   "execution_count": 12,
   "id": "aaa00016-a7be-4517-8696-965118b4d5e6",
   "metadata": {},
   "outputs": [],
   "source": [
    "import numpy as np\n",
    "\n",
    "import matplotlib.pyplot as plt\n",
    "from matplotlib.animation import FuncAnimation\n",
    "plt.rcParams[\"animation.html\"] = \"jshtml\"\n",
    "%config InlineBackend.figure_format = 'retina'"
   ]
  },
  {
   "cell_type": "code",
   "execution_count": 13,
   "id": "2a01f34a-d55f-4082-8f50-760e15ba40b9",
   "metadata": {},
   "outputs": [
    {
     "name": "stdout",
     "output_type": "stream",
     "text": [
      "     T = 0.8\n",
      "tsteps = 84\n",
      "    hx = 0.00995\n",
      "    ht = 0.0094525\n",
      " gamma = 0.95\n"
     ]
    }
   ],
   "source": [
    "T = 0.8 # end time   0.1 * 1/2 -> 0.05; so 0.4 -> 0.2\n",
    "\n",
    "nx = 100 # number of cells\n",
    "hx = (1/nx)/2\n",
    "\n",
    "x, hx = np.linspace(hx, 1, nx, endpoint=False, retstep=True)\n",
    "#plt.plot(x, 0*x, 'go')\n",
    "#plt.plot(x-(1/nx/2), 0*x, 'b|')\n",
    "#plt.plot(x+(1/nx/2)+5e-3, 0*x, 'b|')\n",
    "xx = np.linspace(0, 1, 1000, endpoint=False)\n",
    "\n",
    "gamma = 0.95\n",
    "ht = hx * gamma\n",
    "nt = int(T/ht)\n",
    "\n",
    "print(f'     T = {T}')\n",
    "print(f'tsteps = {nt}')\n",
    "print(f'    hx = {hx}')\n",
    "print(f'    ht = {ht}')\n",
    "print(f' gamma = {gamma}')\n",
    "\n",
    "def square(x):\n",
    "    u = np.zeros_like(x)\n",
    "    u[np.where((x>0.05) & (x<0.4))[0]] = 1.0\n",
    "    return u\n",
    "\n",
    "uinit = square"
   ]
  },
  {
   "cell_type": "code",
   "execution_count": 14,
   "id": "3dd02623-c5c9-42ae-b360-ee333bc57508",
   "metadata": {},
   "outputs": [],
   "source": [
    "animateit = True\n",
    "\n",
    "J = np.arange(0, nx)  # all vertices\n",
    "Jm1 = np.roll(J, 1)\n",
    "Jp1 = np.roll(J, -1)\n",
    "\n",
    "u = uinit(x)\n",
    "\n",
    "if animateit:\n",
    "    U = [u.copy()]\n",
    "else:\n",
    "    fig, ax = plt.subplots(figsize=(4, 2))\n",
    "    plt.plot(x, u, lw=3, color='tab:blue')\n",
    "\n",
    "def f(u):\n",
    "    return u**2/2\n",
    "\n",
    "def fprime(u):\n",
    "    return u\n",
    "\n",
    "for tstep in range(1, nt+1):\n",
    "        \n",
    "    uplus = u[Jp1]\n",
    "    uminus = u[J]\n",
    "    alpha = np.maximum(np.abs(fprime(uplus)),\n",
    "                       np.abs(fprime(uminus)))\n",
    "    fluxes = (f(uplus)+f(uminus))/2 - alpha/2*(uplus-uminus)\n",
    "\n",
    "    u[:] = u - ht/hx*(fluxes[J]-fluxes[Jm1])\n",
    "\n",
    "    if animateit:\n",
    "        U.append(u.copy())\n",
    "    else:\n",
    "        if tstep % 10 == 0:\n",
    "            ax.plot(x, u, lw=0.5, color='tab:red');"
   ]
  },
  {
   "cell_type": "code",
   "execution_count": null,
   "id": "b839638f-88c8-4033-b928-6ec5eafc6038",
   "metadata": {},
   "outputs": [],
   "source": [
    "if not animateit:\n",
    "    ax.plot(x, u, color='tab:red', lw=2);\n",
    "\n",
    "if animateit:\n",
    "    fig = plt.figure(figsize=(10,6))\n",
    "    ax = fig.add_subplot()\n",
    "def animate(t):\n",
    "    ax.plot(x, U[t], color='tab:red', ls='-',linewidth = 0.5)\n",
    "    ax.set_xlabel('x')\n",
    "    ax.set_ylabel('y')\n",
    "    ax.set_title(f\"Time step = {t}\")      \n",
    "    return ax\n",
    "\n",
    "ani = FuncAnimation(fig, animate, frames=np.arange(0, nt+1), interval = 100, repeat = False)\n",
    "ani"
   ]
  },
  {
   "cell_type": "code",
   "execution_count": null,
   "id": "0a4056c1-bb80-4b00-88c0-9fbf738f121a",
   "metadata": {},
   "outputs": [],
   "source": []
  }
 ],
 "metadata": {
  "kernelspec": {
   "display_name": "Python 3 (ipykernel)",
   "language": "python",
   "name": "python3"
  },
  "language_info": {
   "codemirror_mode": {
    "name": "ipython",
    "version": 3
   },
   "file_extension": ".py",
   "mimetype": "text/x-python",
   "name": "python",
   "nbconvert_exporter": "python",
   "pygments_lexer": "ipython3",
   "version": "3.12.9"
  }
 },
 "nbformat": 4,
 "nbformat_minor": 5
}
