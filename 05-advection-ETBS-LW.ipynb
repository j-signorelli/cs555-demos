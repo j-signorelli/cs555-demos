{
 "cells": [
  {
   "cell_type": "code",
   "execution_count": null,
   "id": "f5af539f-b704-4e1f-8ad7-4cfd71bebd76",
   "metadata": {},
   "outputs": [],
   "source": [
    "import numpy as np\n",
    "\n",
    "import matplotlib.pyplot as plt"
   ]
  },
  {
   "cell_type": "code",
   "execution_count": null,
   "id": "a7241d6f-ee52-4961-b394-959175d34941",
   "metadata": {},
   "outputs": [],
   "source": [
    "c = 1.0 # advection speed\n",
    "T = 0.5 # end time\n",
    "\n",
    "nx = 100 # spacial size\n",
    "x = np.linspace(0, 1, nx, endpoint=False)\n",
    "hx = x[1] - x[0]\n",
    "xx = np.linspace(0, 1, 1000, endpoint=False)\n",
    "\n",
    "gamma = 0.3\n",
    "ht = hx * gamma / c\n",
    "nt = int(T/ht)\n",
    "\n",
    "print(f'     T = {T}')\n",
    "print(f'tsteps = {nt}')\n",
    "print(f'    hx = {hx}')\n",
    "print(f'    ht = {ht}')\n",
    "print(f' gamma = {gamma}')\n",
    "\n",
    "def pulse(x):\n",
    "    return np.exp(-100*(x-0.5)**2)\n",
    "\n",
    "def sinusoidal(x):\n",
    "    k = 10\n",
    "    return np.sin(k * np.pi * x)\n",
    "\n",
    "def hump(x):\n",
    "    u = np.zeros_like(x)\n",
    "    I = np.where((x>=0.2) & (x<=0.4))[0]\n",
    "    u[I] = -100 * (x[I]-0.2) * (x[I]-0.4)\n",
    "    return u\n",
    "\n",
    "uinit = hump"
   ]
  },
  {
   "cell_type": "code",
   "execution_count": null,
   "id": "08abb6e4-4e55-42c2-9434-0b2eeae8bd91",
   "metadata": {},
   "outputs": [],
   "source": [
    "plt.plot(xx, uinit(xx), lw=3, clip_on=False)"
   ]
  },
  {
   "cell_type": "code",
   "execution_count": null,
   "id": "9f2759ed-3268-427b-b87b-77add8a958f8",
   "metadata": {},
   "outputs": [],
   "source": [
    "J = np.arange(0, nx)  # all vertices\n",
    "Jm1 = np.roll(J, 1)\n",
    "Jp1 = np.roll(J, -1)\n",
    "\n",
    "u = uinit(x)\n",
    "for tstep in range(1, nt+1):\n",
    "    \n",
    "    #u[J] = u[J] - gamma * (u[J] - u[Jm1])\n",
    "    \n",
    "    u[J] = u[J] - (gamma / 2.0) * (u[Jp1] - u[Jm1]) \\\n",
    "         + (gamma**2 / 2.0) * (u[Jp1] - 2 * u[J] + u[Jm1])\n",
    "    \n",
    "    uexact = uinit((xx - c * tstep * ht) % 1.0)\n",
    "    if tstep % 10 == 0:\n",
    "        plt.plot(x, u, lw=0.5, color='tab:red')\n",
    "    \n",
    "plt.plot(xx, uexact)\n",
    "plt.plot(x, u)"
   ]
  },
  {
   "cell_type": "code",
   "execution_count": null,
   "id": "0b60c2d9-bad5-484a-aea6-c1b0ac2392ae",
   "metadata": {},
   "outputs": [],
   "source": []
  },
  {
   "cell_type": "code",
   "execution_count": null,
   "id": "ebc21966-fd5d-4e61-a194-e0edef7e12e4",
   "metadata": {},
   "outputs": [],
   "source": []
  },
  {
   "cell_type": "code",
   "execution_count": null,
   "id": "2b2a01bc-b190-4797-b06d-2216890781a0",
   "metadata": {},
   "outputs": [],
   "source": []
  }
 ],
 "metadata": {
  "kernelspec": {
   "display_name": "Python 3 (ipykernel)",
   "language": "python",
   "name": "python3"
  },
  "language_info": {
   "codemirror_mode": {
    "name": "ipython",
    "version": 3
   },
   "file_extension": ".py",
   "mimetype": "text/x-python",
   "name": "python",
   "nbconvert_exporter": "python",
   "pygments_lexer": "ipython3",
   "version": "3.10.9"
  }
 },
 "nbformat": 4,
 "nbformat_minor": 5
}
