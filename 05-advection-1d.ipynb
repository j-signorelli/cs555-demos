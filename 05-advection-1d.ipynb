{
 "cells": [
  {
   "cell_type": "code",
   "execution_count": null,
   "metadata": {},
   "outputs": [],
   "source": [
    "import numpy as np\n",
    "import scipy as sp\n",
    "import matplotlib.pyplot as plt\n",
    "\n",
    "import matplotlib\n",
    "matplotlib.rcParams['animation.embed_limit'] = 2**28\n",
    "from matplotlib import animation\n",
    "from IPython.display import HTML\n",
    "from common import set_figure"
   ]
  },
  {
   "cell_type": "markdown",
   "metadata": {},
   "source": [
    "#### Problem description"
   ]
  },
  {
   "cell_type": "markdown",
   "metadata": {},
   "source": [
    "Here you will set up the problem for\n",
    "$$ u_t + c u_x = 0$$\n",
    "with periodic BC on the interval [0,1]"
   ]
  },
  {
   "cell_type": "code",
   "execution_count": null,
   "metadata": {},
   "outputs": [],
   "source": [
    "c = 1.0\n",
    "T = 1.0 / c # end time"
   ]
  },
  {
   "cell_type": "markdown",
   "metadata": {},
   "source": [
    "#### Set up the grid"
   ]
  },
  {
   "cell_type": "markdown",
   "metadata": {},
   "source": [
    "`hx` is the grid spacing in the `x`-direction\n",
    "\n",
    "`x` are the grid coordinates\n",
    "\n",
    "`xx` are really fine grid coordinates"
   ]
  },
  {
   "cell_type": "code",
   "execution_count": null,
   "metadata": {},
   "outputs": [],
   "source": [
    "nx = 64\n",
    "x = np.linspace(0, 1, nx, endpoint=False)\n",
    "hx = x[1] - x[0]\n",
    "xx = np.linspace(0, 1, 100, endpoint=False)\n",
    "print(hx)"
   ]
  },
  {
   "cell_type": "markdown",
   "metadata": {},
   "source": [
    "Now define an initial condition"
   ]
  },
  {
   "cell_type": "code",
   "execution_count": null,
   "metadata": {},
   "outputs": [],
   "source": [
    "def square(x):\n",
    "    u = np.zeros(x.shape)\n",
    "    u[np.intersect1d(np.where(x>0.4), np.where(x<0.6))] = 1.0\n",
    "    return u\n",
    "\n",
    "f = square"
   ]
  },
  {
   "cell_type": "code",
   "execution_count": null,
   "metadata": {},
   "outputs": [],
   "source": [
    "plt.plot(x, f(x), lw=3, clip_on=False)"
   ]
  },
  {
   "cell_type": "markdown",
   "metadata": {},
   "source": [
    "#### Setting time step $h_t$"
   ]
  },
  {
   "cell_type": "markdown",
   "metadata": {},
   "source": [
    "Now we need a time step.  Let\n",
    "$$ h_t = h_x \\frac{\\lambda}{c}$$\n",
    "\n",
    "So we need a parameter $\\lambda$"
   ]
  },
  {
   "cell_type": "markdown",
   "metadata": {},
   "source": [
    "<span style=\"color:red\">What happens when $\\lambda>1.0$?</span>\n",
    "\n",
    "<span style=\"color:red\">When the `method` changes to FTCS, what is the impact of $\\lambda$?</span>"
   ]
  },
  {
   "cell_type": "code",
   "execution_count": null,
   "metadata": {},
   "outputs": [],
   "source": [
    "lmbda = 0.05\n",
    "ht = hx * lmbda / c\n",
    "nt = int(T/ht)\n",
    "print(f'     T = {T}')\n",
    "print(f'tsteps = {nt}')\n",
    "print(f'    hx = {hx}')\n",
    "print(f'    ht = {ht}')\n",
    "print(f'lambda = {lmbda}')"
   ]
  },
  {
   "cell_type": "markdown",
   "metadata": {},
   "source": [
    "Now make an index list, called $J$, so that we can access $J+1$ and $J-1$ easily"
   ]
  },
  {
   "cell_type": "code",
   "execution_count": null,
   "metadata": {},
   "outputs": [],
   "source": [
    "J = np.arange(0, nx)  # all vertices\n",
    "Jm1 = np.roll(J, 1)\n",
    "Jp1 = np.roll(J, -1)"
   ]
  },
  {
   "cell_type": "markdown",
   "metadata": {},
   "source": [
    "# Run and Animate"
   ]
  },
  {
   "cell_type": "code",
   "execution_count": null,
   "metadata": {},
   "outputs": [],
   "source": [
    "import time\n",
    "\n",
    "method = 'ETBS'\n",
    "\n",
    "u = f(x)\n",
    "\n",
    "fig, ax = plt.subplots()\n",
    "\n",
    "ax.set_title('u vs x')\n",
    "ax.set_ylim(0, 1)\n",
    "line1, = ax.plot(xx, f(xx), '-', color='tab:blue', lw=3, clip_on=False)\n",
    "line2, = ax.plot(x, u, '-', color='tab:red', lw=3, clip_on=False)\n",
    "    \n",
    "def init():\n",
    "    pass\n",
    "\n",
    "\n",
    "def timestepper(n):\n",
    "    \n",
    "    if method == 'ETBS':\n",
    "        u[J] = u[J] - lmbda * (u[J] - u[Jm1])\n",
    "            \n",
    "    if method == 'ETFS':\n",
    "        u[J] = u[J] - lmbda * (u[Jp1] - u[J])\n",
    "        \n",
    "    if method == 'ETCS':\n",
    "        u[J] = u[J] - lmbda * (1.0 / 2.0) * (u[Jp1] - u[Jm1])\n",
    "    \n",
    "    # exact solution\n",
    "    uexact = f((xx - c * (n+1) * ht) % 1.0)\n",
    "        \n",
    "    line1.set_data(xx, uexact)\n",
    "    line2.set_data(x, u)\n",
    "    \n",
    "    return line1, line2\n",
    "\n",
    "ani = animation.FuncAnimation(fig, timestepper, \n",
    "                              frames=nt, interval=30,\n",
    "                              init_func=init)\n",
    "html = HTML(ani.to_jshtml())\n",
    "plt.clf()\n",
    "html"
   ]
  },
  {
   "cell_type": "markdown",
   "metadata": {},
   "source": [
    "#### Check the error"
   ]
  },
  {
   "cell_type": "code",
   "execution_count": null,
   "metadata": {},
   "outputs": [],
   "source": [
    "uexact = f((x - c * (nt+1) * ht) % 1.0)\n",
    "error = u - uexact\n",
    "l2err = np.sqrt(hx * np.sum(error**2))\n",
    "print(l2err)"
   ]
  },
  {
   "cell_type": "code",
   "execution_count": null,
   "metadata": {},
   "outputs": [],
   "source": []
  }
 ],
 "metadata": {
  "kernelspec": {
   "display_name": "Python 3 (ipykernel)",
   "language": "python",
   "name": "python3"
  },
  "language_info": {
   "codemirror_mode": {
    "name": "ipython",
    "version": 3
   },
   "file_extension": ".py",
   "mimetype": "text/x-python",
   "name": "python",
   "nbconvert_exporter": "python",
   "pygments_lexer": "ipython3",
   "version": "3.10.9"
  }
 },
 "nbformat": 4,
 "nbformat_minor": 4
}
