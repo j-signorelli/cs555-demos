{
 "cells": [
  {
   "cell_type": "code",
   "execution_count": null,
   "id": "e9875895-6278-42ea-8a0a-e01ee7afbace",
   "metadata": {},
   "outputs": [],
   "source": [
    "import numpy as np\n",
    "from scipy.special import legendre\n",
    "from scipy.interpolate import lagrange\n",
    "import matplotlib.pyplot as plt\n",
    "import modepy"
   ]
  },
  {
   "cell_type": "code",
   "execution_count": null,
   "id": "24ad2f92-89f0-44b3-bf7a-3bf3e4a1d4c7",
   "metadata": {},
   "outputs": [],
   "source": [
    "p = 5\n",
    "q = modepy.JacobiGaussQuadrature(0, 0, p+1)\n",
    "print(q.nodes, q.weights)\n",
    "qx = q.nodes\n",
    "qw = q.weights"
   ]
  },
  {
   "cell_type": "code",
   "execution_count": null,
   "id": "09b8abe8-6701-49ae-a113-c33fc6d1dc2d",
   "metadata": {},
   "outputs": [],
   "source": [
    "# check quadrature\n",
    "q = 16\n",
    "def f(x):\n",
    "    return x**q\n",
    "\n",
    "print(np.sum(qw * f(qx)))\n",
    "print(2 / (q+1))"
   ]
  },
  {
   "cell_type": "code",
   "execution_count": null,
   "id": "a60954c0-ee23-4942-97f4-ff0cd19e69c2",
   "metadata": {},
   "outputs": [],
   "source": [
    "# Construct the local quadrature points\n",
    "qx = modepy.quadrature.jacobi_gauss.legendre_gauss_lobatto_nodes(p)"
   ]
  },
  {
   "cell_type": "code",
   "execution_count": null,
   "id": "8152fdf5-a122-4ba2-821a-749d38d5ccd5",
   "metadata": {},
   "outputs": [],
   "source": [
    "plt.plot(qx, 0*qx, 'o')"
   ]
  },
  {
   "cell_type": "code",
   "execution_count": null,
   "id": "8d3f74be-acc5-4ac3-8bc2-ed1230558bd6",
   "metadata": {},
   "outputs": [],
   "source": [
    "def nlegendre(qorder):\n",
    "    \"\"\"Compute the Legendre with unite L2.\"\"\"\n",
    "    return legendre(qorder) / np.sqrt(2/(2*qorder+1))"
   ]
  },
  {
   "cell_type": "code",
   "execution_count": null,
   "id": "512af5fa-5049-490f-a880-d57edb9cee9d",
   "metadata": {},
   "outputs": [],
   "source": [
    "Lp = nlegendre(p)\n",
    "dLp = Lp.deriv()"
   ]
  },
  {
   "cell_type": "code",
   "execution_count": null,
   "id": "c00ca754-0832-4a42-97e2-b6e0767cdaed",
   "metadata": {},
   "outputs": [],
   "source": [
    "xx = np.linspace(-1, 1, 100)\n",
    "plt.plot(xx, dLp(xx), '-')\n",
    "plt.plot(qx, 0*qx, 'ro')"
   ]
  },
  {
   "cell_type": "code",
   "execution_count": null,
   "id": "faaa9ed4-a9ce-4361-8a66-d917151dadbc",
   "metadata": {},
   "outputs": [],
   "source": [
    "def f(x):\n",
    "    u = np.zeros_like(x)\n",
    "    u[x<=0] = 1\n",
    "    return u\n",
    "plt.plot(xx, f(xx), 'k-')\n",
    "\n",
    "z = np.linspace(-1, 1, p+1)\n",
    "plt.plot(xx, lagrange(z, f(z))(xx), 'r-')\n",
    "\n",
    "z = qx\n",
    "plt.plot(xx, lagrange(z, f(z))(xx), 'b-')"
   ]
  },
  {
   "cell_type": "code",
   "execution_count": null,
   "id": "6526d32c-32ac-40fe-8a01-29d7b8301bb4",
   "metadata": {},
   "outputs": [],
   "source": [
    "h = 2\n",
    "V = np.zeros((p+1, p+1))      # Vandermonde\n",
    "dV = np.zeros((p+1, p+1))     # derivative Vandermonde\n",
    "for q in range(p+1):\n",
    "    poly = nlegendre(q)\n",
    "    dpoly = poly.deriv()\n",
    "    V[:, q] = poly(qx)\n",
    "    dV[:, q] = dpoly(qx)\n",
    "\n",
    "Vinv = np.linalg.inv(V)\n",
    "M = Vinv.T @ Vinv            # Mass\n",
    "Minv = (2/h) * V @ V.T       # Mass inverwse\n",
    "S = M @ dV @ Vinv            # S\n",
    "D = dV @ Vinv                # Derivative"
   ]
  }
 ],
 "metadata": {
  "kernelspec": {
   "display_name": "Python 3 (ipykernel)",
   "language": "python",
   "name": "python3"
  },
  "language_info": {
   "codemirror_mode": {
    "name": "ipython",
    "version": 3
   },
   "file_extension": ".py",
   "mimetype": "text/x-python",
   "name": "python",
   "nbconvert_exporter": "python",
   "pygments_lexer": "ipython3",
   "version": "3.10.10"
  }
 },
 "nbformat": 4,
 "nbformat_minor": 5
}
