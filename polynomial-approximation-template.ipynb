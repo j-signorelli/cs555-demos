{
 "cells": [
  {
   "cell_type": "code",
   "execution_count": null,
   "id": "85a76923-893d-490b-9029-a86f86951040",
   "metadata": {},
   "outputs": [],
   "source": [
    "import numpy as np\n",
    "from scipy.special import legendre\n",
    "from scipy.interpolate import lagrange\n",
    "import matplotlib.pyplot as plt\n",
    "import modepy\n",
    "from functools import partial"
   ]
  },
  {
   "cell_type": "markdown",
   "id": "6d110464-5f56-448e-9bd1-fdb1e2a90a26",
   "metadata": {},
   "source": [
    "What does this do, how accurate is it?"
   ]
  },
  {
   "cell_type": "code",
   "execution_count": null,
   "id": "36da9058-3358-44ab-9b3a-21d891a4dc27",
   "metadata": {},
   "outputs": [],
   "source": [
    "quad = modepy.quadrature.jacobi_gauss.LegendreGaussQuadrature(10)"
   ]
  },
  {
   "cell_type": "code",
   "execution_count": null,
   "id": "888eebeb-d2de-40f7-aadf-e4ce661a4f4c",
   "metadata": {},
   "outputs": [],
   "source": [
    "def f(x):\n",
    "    return np.abs(x)\n",
    "\n",
    "# set k\n",
    "k = 6\n",
    "\n",
    "M = np.zeros((k+1, k+1))"
   ]
  },
  {
   "cell_type": "markdown",
   "id": "bc334f1a-5cb1-404c-b23f-c935bff2a00b",
   "metadata": {},
   "source": [
    "# Construct the following\n",
    "- Mass matrix `M`\n",
    "- Right hand side `F`\n",
    "- A basis `phi` based on Lagrange\n",
    "- A basis `phi` based on Legendre"
   ]
  },
  {
   "cell_type": "markdown",
   "id": "2d283c37-866b-40e1-8cde-818cd67ba25b",
   "metadata": {},
   "source": [
    "# Compute coefficient `a`"
   ]
  },
  {
   "cell_type": "markdown",
   "id": "412ae774-e8be-41d3-bde0-a788715a46e1",
   "metadata": {},
   "source": [
    "# Plot $f(x)$ vs $p_k(x)$"
   ]
  },
  {
   "cell_type": "code",
   "execution_count": null,
   "id": "88a777a4-3f74-442e-b6c9-91959d339d87",
   "metadata": {},
   "outputs": [],
   "source": []
  }
 ],
 "metadata": {
  "kernelspec": {
   "display_name": "Python 3 (ipykernel)",
   "language": "python",
   "name": "python3"
  },
  "language_info": {
   "codemirror_mode": {
    "name": "ipython",
    "version": 3
   },
   "file_extension": ".py",
   "mimetype": "text/x-python",
   "name": "python",
   "nbconvert_exporter": "python",
   "pygments_lexer": "ipython3",
   "version": "3.10.10"
  }
 },
 "nbformat": 4,
 "nbformat_minor": 5
}
