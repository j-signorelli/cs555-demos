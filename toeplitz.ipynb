{
 "cells": [
  {
   "cell_type": "code",
   "execution_count": null,
   "id": "a99a96cc-e834-4bb3-a5db-60b8a1889d3d",
   "metadata": {},
   "outputs": [],
   "source": [
    "import numpy as np\n",
    "import scipy as sp\n",
    "import matplotlib.pyplot as plt"
   ]
  },
  {
   "cell_type": "markdown",
   "id": "597ffd84-ab0c-4d80-8734-cb1eef495b04",
   "metadata": {},
   "source": [
    "#### Construct a toeplitz matrix"
   ]
  },
  {
   "cell_type": "code",
   "execution_count": null,
   "id": "1a9050b7-8fa8-40ce-80ec-e0ba7b27e4b0",
   "metadata": {},
   "outputs": [],
   "source": [
    "x = np.zeros(50)\n",
    "x[0] = 2\n",
    "x[1] = -1\n",
    "x[-1] = -1\n",
    "A = sp.linalg.toeplitz(x)"
   ]
  },
  {
   "cell_type": "markdown",
   "id": "34984ba0-852e-4423-bac8-3492a2bc42a2",
   "metadata": {},
   "source": [
    "#### Calculate the eigenvalues and eigenvectors"
   ]
  },
  {
   "cell_type": "code",
   "execution_count": null,
   "id": "aefb9c65-ce26-4aaa-bb9b-3ada65413647",
   "metadata": {},
   "outputs": [],
   "source": [
    "v, w = sp.linalg.eig(A)"
   ]
  },
  {
   "cell_type": "markdown",
   "id": "d18cc476-0904-43b4-9e0a-76eed3592163",
   "metadata": {},
   "source": [
    "#### Plot the lowest \"modes\""
   ]
  },
  {
   "cell_type": "code",
   "execution_count": null,
   "id": "cbaaf37b-ed42-4d7a-993c-563287222416",
   "metadata": {},
   "outputs": [],
   "source": [
    "J = np.argsort(np.abs(v))\n",
    "for i in J[:6]:\n",
    "    plt.plot(w[:, i])"
   ]
  }
 ],
 "metadata": {
  "kernelspec": {
   "display_name": "Python 3 (ipykernel)",
   "language": "python",
   "name": "python3"
  },
  "language_info": {
   "codemirror_mode": {
    "name": "ipython",
    "version": 3
   },
   "file_extension": ".py",
   "mimetype": "text/x-python",
   "name": "python",
   "nbconvert_exporter": "python",
   "pygments_lexer": "ipython3",
   "version": "3.11.7"
  }
 },
 "nbformat": 4,
 "nbformat_minor": 5
}
